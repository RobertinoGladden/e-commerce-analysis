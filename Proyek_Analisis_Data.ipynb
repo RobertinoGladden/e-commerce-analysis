{
  "cells": [
    {
      "cell_type": "markdown",
      "metadata": {
        "id": "view-in-github",
        "colab_type": "text"
      },
      "source": [
        "<a href=\"https://colab.research.google.com/github/RobertinoGladden/e-commerce-analysis/blob/main/Proyek_Analisis_Data.ipynb\" target=\"_parent\"><img src=\"https://colab.research.google.com/assets/colab-badge.svg\" alt=\"Open In Colab\"/></a>"
      ]
    },
    {
      "cell_type": "markdown",
      "metadata": {
        "id": "H9wADwK78DCz"
      },
      "source": [
        "# Proyek Analisis Data: [E-Commerce Dataset]\n",
        "\n",
        "\n",
        "- **Nama:** [Robertino Gladden Narendra]\n",
        "- **Email:** [mc012d5y2381@student.devacademy.id]\n",
        "- **ID Dicoding:** [Robertino Gladden Narendra]"
      ]
    },
    {
      "cell_type": "markdown",
      "source": [
        "## Pendahuluan Proyek"
      ],
      "metadata": {
        "id": "IxsR23KznylO"
      }
    },
    {
      "cell_type": "markdown",
      "source": [
        "Dalam dunia e-commerce, memahami perilaku pelanggan sangat penting untuk meningkatkan strategi pemasaran dan retensi pelanggan. Analisis pelanggan yang lebih mendalam dapat memberikan wawasan yang lebih akurat dibandingkan metode segmentasi dasar seperti RFM.\n"
      ],
      "metadata": {
        "id": "H7EsVlIz2lAx"
      }
    },
    {
      "cell_type": "markdown",
      "source": [
        "## Tujuan Proyek"
      ],
      "metadata": {
        "id": "jpdkmsiyoBH2"
      }
    },
    {
      "cell_type": "markdown",
      "source": [
        "Proyek ini bertujuan untuk:\n",
        "- Menganalisis data transaksi pelanggan menggunakan berbagai teknik lanjutan selain RFM.\n",
        "- Menghasilkan insight yang lebih kompleks dengan clustering dan geospatial analysis.\n",
        "- Membuat visualisasi data yang informatif.\n",
        "- Menyediakan dashboard interaktif dengan Streamlit.\n"
      ],
      "metadata": {
        "id": "Axx_Nq142iKp"
      }
    },
    {
      "cell_type": "markdown",
      "metadata": {
        "id": "eE0raob58DC0"
      },
      "source": [
        "## Menentukan Pertanyaan Bisnis"
      ]
    },
    {
      "cell_type": "markdown",
      "metadata": {
        "id": "GmQeQ5YF8DC0"
      },
      "source": [
        "- Bagaimana pola distribusi pelanggan berdasarkan lokasi geografis mereka?\n",
        "- Bagaimana pelanggan dapat dikelompokkan berdasarkan pola pembelian mereka?"
      ]
    },
    {
      "cell_type": "markdown",
      "metadata": {
        "id": "H-z4QGlO8DC1"
      },
      "source": [
        "## Import Semua Packages/Library yang Digunakan"
      ]
    },
    {
      "cell_type": "code",
      "execution_count": null,
      "metadata": {
        "id": "FVYwaObI8DC1"
      },
      "outputs": [],
      "source": [
        "!pip install streamlit\n",
        "import pandas as pd\n",
        "import numpy as np\n",
        "import matplotlib.pyplot as plt\n",
        "import seaborn as sns\n",
        "import streamlit as st\n",
        "import folium\n",
        "from sklearn.cluster import KMeans\n",
        "from sklearn.preprocessing import StandardScaler\n",
        "from datetime import datetime\n",
        "from folium.plugins import HeatMap"
      ]
    },
    {
      "cell_type": "markdown",
      "metadata": {
        "id": "h_Sh51Xy8DC1"
      },
      "source": [
        "## Data Wrangling\n",
        "Kita akan menggunakan dataset berikut:\n",
        "- `order_items_dataset.csv` untuk mendapatkan informasi transaksi."
      ]
    },
    {
      "cell_type": "markdown",
      "metadata": {
        "id": "sXU2GBYu8DC1"
      },
      "source": [
        "### Gathering Data"
      ]
    },
    {
      "cell_type": "code",
      "execution_count": 5,
      "metadata": {
        "id": "zjCBk1BI8DC1"
      },
      "outputs": [],
      "source": [
        "# Membaca dataset\n",
        "orders_df = pd.read_csv(\"order_items_dataset.csv\")"
      ]
    },
    {
      "cell_type": "code",
      "source": [
        "# Menampilkan dataset\n",
        "print(orders_df.head())"
      ],
      "metadata": {
        "colab": {
          "base_uri": "https://localhost:8080/"
        },
        "id": "KAT0Rfezqm6Z",
        "outputId": "4e8c5a79-0265-4e10-9778-8a679f0da11e"
      },
      "execution_count": 6,
      "outputs": [
        {
          "output_type": "stream",
          "name": "stdout",
          "text": [
            "                           order_id  order_item_id  \\\n",
            "0  00010242fe8c5a6d1ba2dd792cb16214              1   \n",
            "1  00018f77f2f0320c557190d7a144bdd3              1   \n",
            "2  000229ec398224ef6ca0657da4fc703e              1   \n",
            "3  00024acbcdf0a6daa1e931b038114c75              1   \n",
            "4  00042b26cf59d7ce69dfabb4e55b4fd9              1   \n",
            "\n",
            "                         product_id                         seller_id  \\\n",
            "0  4244733e06e7ecb4970a6e2683c13e61  48436dade18ac8b2bce089ec2a041202   \n",
            "1  e5f2d52b802189ee658865ca93d83a8f  dd7ddc04e1b6c2c614352b383efe2d36   \n",
            "2  c777355d18b72b67abbeef9df44fd0fd  5b51032eddd242adc84c38acab88f23d   \n",
            "3  7634da152a4610f1595efa32f14722fc  9d7a1d34a5052409006425275ba1c2b4   \n",
            "4  ac6c3623068f30de03045865e4e10089  df560393f3a51e74553ab94004ba5c87   \n",
            "\n",
            "   shipping_limit_date   price  freight_value  \n",
            "0  2017-09-19 09:45:35   58.90          13.29  \n",
            "1  2017-05-03 11:05:13  239.90          19.93  \n",
            "2  2018-01-18 14:48:30  199.00          17.87  \n",
            "3  2018-08-15 10:10:18   12.99          12.79  \n",
            "4  2017-02-13 13:57:51  199.90          18.14  \n"
          ]
        }
      ]
    },
    {
      "cell_type": "markdown",
      "source": [
        "**Insight:**\n",
        "- **Orders Dataset**: Berisi informasi transaksi pelanggan, termasuk harga dan jumlah barang.\n"
      ],
      "metadata": {
        "id": "MMi6xGaDkbCi"
      }
    },
    {
      "cell_type": "markdown",
      "metadata": {
        "id": "FHSiqaZp8DC1"
      },
      "source": [
        "### Assessing Data\n",
        "Evaluasi struktur dataset untuk menemukan data yang hilang atau tidak konsisten.\n"
      ]
    },
    {
      "cell_type": "code",
      "source": [
        "# Melihat informasi dataset\n",
        "print(orders_df.info())"
      ],
      "metadata": {
        "id": "ax-3tEjc9Cj1",
        "colab": {
          "base_uri": "https://localhost:8080/"
        },
        "outputId": "bd15775b-381c-47aa-cf4a-41647f42ae78"
      },
      "execution_count": 7,
      "outputs": [
        {
          "output_type": "stream",
          "name": "stdout",
          "text": [
            "<class 'pandas.core.frame.DataFrame'>\n",
            "RangeIndex: 112650 entries, 0 to 112649\n",
            "Data columns (total 7 columns):\n",
            " #   Column               Non-Null Count   Dtype  \n",
            "---  ------               --------------   -----  \n",
            " 0   order_id             112650 non-null  object \n",
            " 1   order_item_id        112650 non-null  int64  \n",
            " 2   product_id           112650 non-null  object \n",
            " 3   seller_id            112650 non-null  object \n",
            " 4   shipping_limit_date  112650 non-null  object \n",
            " 5   price                112650 non-null  float64\n",
            " 6   freight_value        112650 non-null  float64\n",
            "dtypes: float64(2), int64(1), object(4)\n",
            "memory usage: 6.0+ MB\n",
            "None\n"
          ]
        }
      ]
    },
    {
      "cell_type": "code",
      "source": [
        "# Mengecek jumlah data yang hilang\n",
        "def missing_values(df):\n",
        "    return df.isnull().sum()"
      ],
      "metadata": {
        "id": "RMWuQYRKrlqC"
      },
      "execution_count": 8,
      "outputs": []
    },
    {
      "cell_type": "code",
      "source": [
        "print(missing_values(orders_df))"
      ],
      "metadata": {
        "colab": {
          "base_uri": "https://localhost:8080/"
        },
        "id": "wT3cnPVgrsyb",
        "outputId": "66bb0119-17da-42e3-f961-3245272dd7ed"
      },
      "execution_count": 9,
      "outputs": [
        {
          "output_type": "stream",
          "name": "stdout",
          "text": [
            "order_id               0\n",
            "order_item_id          0\n",
            "product_id             0\n",
            "seller_id              0\n",
            "shipping_limit_date    0\n",
            "price                  0\n",
            "freight_value          0\n",
            "dtype: int64\n"
          ]
        }
      ]
    },
    {
      "cell_type": "code",
      "source": [
        "print(\"Duplikasi dalam orders_df:\", orders_df.duplicated().sum())"
      ],
      "metadata": {
        "colab": {
          "base_uri": "https://localhost:8080/"
        },
        "id": "AQ3AI05etuyt",
        "outputId": "8ded812b-3d67-4d55-92f8-a91f8b97cfb3"
      },
      "execution_count": 10,
      "outputs": [
        {
          "output_type": "stream",
          "name": "stdout",
          "text": [
            "Duplikasi dalam orders_df: 0\n"
          ]
        }
      ]
    },
    {
      "cell_type": "markdown",
      "source": [
        "- **Orders Dataset**: Tidak ada duplikasi yang ditemukan."
      ],
      "metadata": {
        "id": "eT96IO45uSGz"
      }
    },
    {
      "cell_type": "markdown",
      "source": [
        "**Insight:**\n",
        "- **Orders Dataset**: Tidak ada data yang hilang, sehingga data siap untuk dianalisis lebih lanjut."
      ],
      "metadata": {
        "id": "7dtxhAPrkhPL"
      }
    },
    {
      "cell_type": "markdown",
      "metadata": {
        "id": "EhN5R4hr8DC1"
      },
      "source": [
        "### Cleaning Data"
      ]
    },
    {
      "cell_type": "code",
      "source": [
        "# Menghapus baris dengan nilai NaN\n",
        "orders_df.dropna(inplace=True)"
      ],
      "metadata": {
        "id": "jVnYpprE9Evz"
      },
      "execution_count": 11,
      "outputs": []
    },
    {
      "cell_type": "code",
      "source": [
        "# Menghapus duplikasi\n",
        "orders_df.drop_duplicates(inplace=True)"
      ],
      "metadata": {
        "id": "ZRdKK6W3u6GR"
      },
      "execution_count": 12,
      "outputs": []
    },
    {
      "cell_type": "markdown",
      "source": [
        "**Insight:**\n",
        "- Setelah pembersihan, tidak ada lagi nilai NaN dalam dataset produk.\n",
        "- Data duplikat berhasil dihapus, memastikan keakuratan analisis lebih lanjut.\n"
      ],
      "metadata": {
        "id": "Q_5ejIqckiSP"
      }
    },
    {
      "cell_type": "markdown",
      "metadata": {
        "id": "gp-Y6wU38DC1"
      },
      "source": [
        "## Exploratory Data Analysis (EDA)"
      ]
    },
    {
      "cell_type": "markdown",
      "metadata": {
        "id": "MW7WF2kr8DC1"
      },
      "source": [
        "### Explore ..."
      ]
    },
    {
      "cell_type": "code",
      "execution_count": 15,
      "metadata": {
        "id": "e9CQCZjk8DC2",
        "colab": {
          "base_uri": "https://localhost:8080/",
          "height": 206
        },
        "outputId": "c052177f-09fc-4632-ae5a-d5d2688153e6"
      },
      "outputs": [
        {
          "output_type": "display_data",
          "data": {
            "text/plain": [
              "                           order_id  order_item_id  \\\n",
              "0  00010242fe8c5a6d1ba2dd792cb16214              1   \n",
              "1  00018f77f2f0320c557190d7a144bdd3              1   \n",
              "2  000229ec398224ef6ca0657da4fc703e              1   \n",
              "3  00024acbcdf0a6daa1e931b038114c75              1   \n",
              "4  00042b26cf59d7ce69dfabb4e55b4fd9              1   \n",
              "\n",
              "                         product_id                         seller_id  \\\n",
              "0  4244733e06e7ecb4970a6e2683c13e61  48436dade18ac8b2bce089ec2a041202   \n",
              "1  e5f2d52b802189ee658865ca93d83a8f  dd7ddc04e1b6c2c614352b383efe2d36   \n",
              "2  c777355d18b72b67abbeef9df44fd0fd  5b51032eddd242adc84c38acab88f23d   \n",
              "3  7634da152a4610f1595efa32f14722fc  9d7a1d34a5052409006425275ba1c2b4   \n",
              "4  ac6c3623068f30de03045865e4e10089  df560393f3a51e74553ab94004ba5c87   \n",
              "\n",
              "   shipping_limit_date   price  freight_value  \n",
              "0  2017-09-19 09:45:35   58.90          13.29  \n",
              "1  2017-05-03 11:05:13  239.90          19.93  \n",
              "2  2018-01-18 14:48:30  199.00          17.87  \n",
              "3  2018-08-15 10:10:18   12.99          12.79  \n",
              "4  2017-02-13 13:57:51  199.90          18.14  "
            ],
            "text/html": [
              "\n",
              "  <div id=\"df-15c7026e-051c-4978-a9c0-822f9c7a11ea\" class=\"colab-df-container\">\n",
              "    <div>\n",
              "<style scoped>\n",
              "    .dataframe tbody tr th:only-of-type {\n",
              "        vertical-align: middle;\n",
              "    }\n",
              "\n",
              "    .dataframe tbody tr th {\n",
              "        vertical-align: top;\n",
              "    }\n",
              "\n",
              "    .dataframe thead th {\n",
              "        text-align: right;\n",
              "    }\n",
              "</style>\n",
              "<table border=\"1\" class=\"dataframe\">\n",
              "  <thead>\n",
              "    <tr style=\"text-align: right;\">\n",
              "      <th></th>\n",
              "      <th>order_id</th>\n",
              "      <th>order_item_id</th>\n",
              "      <th>product_id</th>\n",
              "      <th>seller_id</th>\n",
              "      <th>shipping_limit_date</th>\n",
              "      <th>price</th>\n",
              "      <th>freight_value</th>\n",
              "    </tr>\n",
              "  </thead>\n",
              "  <tbody>\n",
              "    <tr>\n",
              "      <th>0</th>\n",
              "      <td>00010242fe8c5a6d1ba2dd792cb16214</td>\n",
              "      <td>1</td>\n",
              "      <td>4244733e06e7ecb4970a6e2683c13e61</td>\n",
              "      <td>48436dade18ac8b2bce089ec2a041202</td>\n",
              "      <td>2017-09-19 09:45:35</td>\n",
              "      <td>58.90</td>\n",
              "      <td>13.29</td>\n",
              "    </tr>\n",
              "    <tr>\n",
              "      <th>1</th>\n",
              "      <td>00018f77f2f0320c557190d7a144bdd3</td>\n",
              "      <td>1</td>\n",
              "      <td>e5f2d52b802189ee658865ca93d83a8f</td>\n",
              "      <td>dd7ddc04e1b6c2c614352b383efe2d36</td>\n",
              "      <td>2017-05-03 11:05:13</td>\n",
              "      <td>239.90</td>\n",
              "      <td>19.93</td>\n",
              "    </tr>\n",
              "    <tr>\n",
              "      <th>2</th>\n",
              "      <td>000229ec398224ef6ca0657da4fc703e</td>\n",
              "      <td>1</td>\n",
              "      <td>c777355d18b72b67abbeef9df44fd0fd</td>\n",
              "      <td>5b51032eddd242adc84c38acab88f23d</td>\n",
              "      <td>2018-01-18 14:48:30</td>\n",
              "      <td>199.00</td>\n",
              "      <td>17.87</td>\n",
              "    </tr>\n",
              "    <tr>\n",
              "      <th>3</th>\n",
              "      <td>00024acbcdf0a6daa1e931b038114c75</td>\n",
              "      <td>1</td>\n",
              "      <td>7634da152a4610f1595efa32f14722fc</td>\n",
              "      <td>9d7a1d34a5052409006425275ba1c2b4</td>\n",
              "      <td>2018-08-15 10:10:18</td>\n",
              "      <td>12.99</td>\n",
              "      <td>12.79</td>\n",
              "    </tr>\n",
              "    <tr>\n",
              "      <th>4</th>\n",
              "      <td>00042b26cf59d7ce69dfabb4e55b4fd9</td>\n",
              "      <td>1</td>\n",
              "      <td>ac6c3623068f30de03045865e4e10089</td>\n",
              "      <td>df560393f3a51e74553ab94004ba5c87</td>\n",
              "      <td>2017-02-13 13:57:51</td>\n",
              "      <td>199.90</td>\n",
              "      <td>18.14</td>\n",
              "    </tr>\n",
              "  </tbody>\n",
              "</table>\n",
              "</div>\n",
              "    <div class=\"colab-df-buttons\">\n",
              "\n",
              "  <div class=\"colab-df-container\">\n",
              "    <button class=\"colab-df-convert\" onclick=\"convertToInteractive('df-15c7026e-051c-4978-a9c0-822f9c7a11ea')\"\n",
              "            title=\"Convert this dataframe to an interactive table.\"\n",
              "            style=\"display:none;\">\n",
              "\n",
              "  <svg xmlns=\"http://www.w3.org/2000/svg\" height=\"24px\" viewBox=\"0 -960 960 960\">\n",
              "    <path d=\"M120-120v-720h720v720H120Zm60-500h600v-160H180v160Zm220 220h160v-160H400v160Zm0 220h160v-160H400v160ZM180-400h160v-160H180v160Zm440 0h160v-160H620v160ZM180-180h160v-160H180v160Zm440 0h160v-160H620v160Z\"/>\n",
              "  </svg>\n",
              "    </button>\n",
              "\n",
              "  <style>\n",
              "    .colab-df-container {\n",
              "      display:flex;\n",
              "      gap: 12px;\n",
              "    }\n",
              "\n",
              "    .colab-df-convert {\n",
              "      background-color: #E8F0FE;\n",
              "      border: none;\n",
              "      border-radius: 50%;\n",
              "      cursor: pointer;\n",
              "      display: none;\n",
              "      fill: #1967D2;\n",
              "      height: 32px;\n",
              "      padding: 0 0 0 0;\n",
              "      width: 32px;\n",
              "    }\n",
              "\n",
              "    .colab-df-convert:hover {\n",
              "      background-color: #E2EBFA;\n",
              "      box-shadow: 0px 1px 2px rgba(60, 64, 67, 0.3), 0px 1px 3px 1px rgba(60, 64, 67, 0.15);\n",
              "      fill: #174EA6;\n",
              "    }\n",
              "\n",
              "    .colab-df-buttons div {\n",
              "      margin-bottom: 4px;\n",
              "    }\n",
              "\n",
              "    [theme=dark] .colab-df-convert {\n",
              "      background-color: #3B4455;\n",
              "      fill: #D2E3FC;\n",
              "    }\n",
              "\n",
              "    [theme=dark] .colab-df-convert:hover {\n",
              "      background-color: #434B5C;\n",
              "      box-shadow: 0px 1px 3px 1px rgba(0, 0, 0, 0.15);\n",
              "      filter: drop-shadow(0px 1px 2px rgba(0, 0, 0, 0.3));\n",
              "      fill: #FFFFFF;\n",
              "    }\n",
              "  </style>\n",
              "\n",
              "    <script>\n",
              "      const buttonEl =\n",
              "        document.querySelector('#df-15c7026e-051c-4978-a9c0-822f9c7a11ea button.colab-df-convert');\n",
              "      buttonEl.style.display =\n",
              "        google.colab.kernel.accessAllowed ? 'block' : 'none';\n",
              "\n",
              "      async function convertToInteractive(key) {\n",
              "        const element = document.querySelector('#df-15c7026e-051c-4978-a9c0-822f9c7a11ea');\n",
              "        const dataTable =\n",
              "          await google.colab.kernel.invokeFunction('convertToInteractive',\n",
              "                                                    [key], {});\n",
              "        if (!dataTable) return;\n",
              "\n",
              "        const docLinkHtml = 'Like what you see? Visit the ' +\n",
              "          '<a target=\"_blank\" href=https://colab.research.google.com/notebooks/data_table.ipynb>data table notebook</a>'\n",
              "          + ' to learn more about interactive tables.';\n",
              "        element.innerHTML = '';\n",
              "        dataTable['output_type'] = 'display_data';\n",
              "        await google.colab.output.renderOutput(dataTable, element);\n",
              "        const docLink = document.createElement('div');\n",
              "        docLink.innerHTML = docLinkHtml;\n",
              "        element.appendChild(docLink);\n",
              "      }\n",
              "    </script>\n",
              "  </div>\n",
              "\n",
              "\n",
              "<div id=\"df-990ce7c0-27ea-4307-976d-9253c5451f65\">\n",
              "  <button class=\"colab-df-quickchart\" onclick=\"quickchart('df-990ce7c0-27ea-4307-976d-9253c5451f65')\"\n",
              "            title=\"Suggest charts\"\n",
              "            style=\"display:none;\">\n",
              "\n",
              "<svg xmlns=\"http://www.w3.org/2000/svg\" height=\"24px\"viewBox=\"0 0 24 24\"\n",
              "     width=\"24px\">\n",
              "    <g>\n",
              "        <path d=\"M19 3H5c-1.1 0-2 .9-2 2v14c0 1.1.9 2 2 2h14c1.1 0 2-.9 2-2V5c0-1.1-.9-2-2-2zM9 17H7v-7h2v7zm4 0h-2V7h2v10zm4 0h-2v-4h2v4z\"/>\n",
              "    </g>\n",
              "</svg>\n",
              "  </button>\n",
              "\n",
              "<style>\n",
              "  .colab-df-quickchart {\n",
              "      --bg-color: #E8F0FE;\n",
              "      --fill-color: #1967D2;\n",
              "      --hover-bg-color: #E2EBFA;\n",
              "      --hover-fill-color: #174EA6;\n",
              "      --disabled-fill-color: #AAA;\n",
              "      --disabled-bg-color: #DDD;\n",
              "  }\n",
              "\n",
              "  [theme=dark] .colab-df-quickchart {\n",
              "      --bg-color: #3B4455;\n",
              "      --fill-color: #D2E3FC;\n",
              "      --hover-bg-color: #434B5C;\n",
              "      --hover-fill-color: #FFFFFF;\n",
              "      --disabled-bg-color: #3B4455;\n",
              "      --disabled-fill-color: #666;\n",
              "  }\n",
              "\n",
              "  .colab-df-quickchart {\n",
              "    background-color: var(--bg-color);\n",
              "    border: none;\n",
              "    border-radius: 50%;\n",
              "    cursor: pointer;\n",
              "    display: none;\n",
              "    fill: var(--fill-color);\n",
              "    height: 32px;\n",
              "    padding: 0;\n",
              "    width: 32px;\n",
              "  }\n",
              "\n",
              "  .colab-df-quickchart:hover {\n",
              "    background-color: var(--hover-bg-color);\n",
              "    box-shadow: 0 1px 2px rgba(60, 64, 67, 0.3), 0 1px 3px 1px rgba(60, 64, 67, 0.15);\n",
              "    fill: var(--button-hover-fill-color);\n",
              "  }\n",
              "\n",
              "  .colab-df-quickchart-complete:disabled,\n",
              "  .colab-df-quickchart-complete:disabled:hover {\n",
              "    background-color: var(--disabled-bg-color);\n",
              "    fill: var(--disabled-fill-color);\n",
              "    box-shadow: none;\n",
              "  }\n",
              "\n",
              "  .colab-df-spinner {\n",
              "    border: 2px solid var(--fill-color);\n",
              "    border-color: transparent;\n",
              "    border-bottom-color: var(--fill-color);\n",
              "    animation:\n",
              "      spin 1s steps(1) infinite;\n",
              "  }\n",
              "\n",
              "  @keyframes spin {\n",
              "    0% {\n",
              "      border-color: transparent;\n",
              "      border-bottom-color: var(--fill-color);\n",
              "      border-left-color: var(--fill-color);\n",
              "    }\n",
              "    20% {\n",
              "      border-color: transparent;\n",
              "      border-left-color: var(--fill-color);\n",
              "      border-top-color: var(--fill-color);\n",
              "    }\n",
              "    30% {\n",
              "      border-color: transparent;\n",
              "      border-left-color: var(--fill-color);\n",
              "      border-top-color: var(--fill-color);\n",
              "      border-right-color: var(--fill-color);\n",
              "    }\n",
              "    40% {\n",
              "      border-color: transparent;\n",
              "      border-right-color: var(--fill-color);\n",
              "      border-top-color: var(--fill-color);\n",
              "    }\n",
              "    60% {\n",
              "      border-color: transparent;\n",
              "      border-right-color: var(--fill-color);\n",
              "    }\n",
              "    80% {\n",
              "      border-color: transparent;\n",
              "      border-right-color: var(--fill-color);\n",
              "      border-bottom-color: var(--fill-color);\n",
              "    }\n",
              "    90% {\n",
              "      border-color: transparent;\n",
              "      border-bottom-color: var(--fill-color);\n",
              "    }\n",
              "  }\n",
              "</style>\n",
              "\n",
              "  <script>\n",
              "    async function quickchart(key) {\n",
              "      const quickchartButtonEl =\n",
              "        document.querySelector('#' + key + ' button');\n",
              "      quickchartButtonEl.disabled = true;  // To prevent multiple clicks.\n",
              "      quickchartButtonEl.classList.add('colab-df-spinner');\n",
              "      try {\n",
              "        const charts = await google.colab.kernel.invokeFunction(\n",
              "            'suggestCharts', [key], {});\n",
              "      } catch (error) {\n",
              "        console.error('Error during call to suggestCharts:', error);\n",
              "      }\n",
              "      quickchartButtonEl.classList.remove('colab-df-spinner');\n",
              "      quickchartButtonEl.classList.add('colab-df-quickchart-complete');\n",
              "    }\n",
              "    (() => {\n",
              "      let quickchartButtonEl =\n",
              "        document.querySelector('#df-990ce7c0-27ea-4307-976d-9253c5451f65 button');\n",
              "      quickchartButtonEl.style.display =\n",
              "        google.colab.kernel.accessAllowed ? 'block' : 'none';\n",
              "    })();\n",
              "  </script>\n",
              "</div>\n",
              "\n",
              "    </div>\n",
              "  </div>\n"
            ],
            "application/vnd.google.colaboratory.intrinsic+json": {
              "type": "dataframe",
              "summary": "{\n  \"name\": \"display(orders_df\",\n  \"rows\": 5,\n  \"fields\": [\n    {\n      \"column\": \"order_id\",\n      \"properties\": {\n        \"dtype\": \"string\",\n        \"num_unique_values\": 5,\n        \"samples\": [\n          \"00018f77f2f0320c557190d7a144bdd3\",\n          \"00042b26cf59d7ce69dfabb4e55b4fd9\",\n          \"000229ec398224ef6ca0657da4fc703e\"\n        ],\n        \"semantic_type\": \"\",\n        \"description\": \"\"\n      }\n    },\n    {\n      \"column\": \"order_item_id\",\n      \"properties\": {\n        \"dtype\": \"number\",\n        \"std\": 0,\n        \"min\": 1,\n        \"max\": 1,\n        \"num_unique_values\": 1,\n        \"samples\": [\n          1\n        ],\n        \"semantic_type\": \"\",\n        \"description\": \"\"\n      }\n    },\n    {\n      \"column\": \"product_id\",\n      \"properties\": {\n        \"dtype\": \"string\",\n        \"num_unique_values\": 5,\n        \"samples\": [\n          \"e5f2d52b802189ee658865ca93d83a8f\"\n        ],\n        \"semantic_type\": \"\",\n        \"description\": \"\"\n      }\n    },\n    {\n      \"column\": \"seller_id\",\n      \"properties\": {\n        \"dtype\": \"string\",\n        \"num_unique_values\": 5,\n        \"samples\": [\n          \"dd7ddc04e1b6c2c614352b383efe2d36\"\n        ],\n        \"semantic_type\": \"\",\n        \"description\": \"\"\n      }\n    },\n    {\n      \"column\": \"shipping_limit_date\",\n      \"properties\": {\n        \"dtype\": \"object\",\n        \"num_unique_values\": 5,\n        \"samples\": [\n          \"2017-05-03 11:05:13\"\n        ],\n        \"semantic_type\": \"\",\n        \"description\": \"\"\n      }\n    },\n    {\n      \"column\": \"price\",\n      \"properties\": {\n        \"dtype\": \"number\",\n        \"std\": 99.66809278801315,\n        \"min\": 12.99,\n        \"max\": 239.9,\n        \"num_unique_values\": 5,\n        \"samples\": [\n          239.9\n        ],\n        \"semantic_type\": \"\",\n        \"description\": \"\"\n      }\n    },\n    {\n      \"column\": \"freight_value\",\n      \"properties\": {\n        \"dtype\": \"number\",\n        \"std\": 3.1762210250547747,\n        \"min\": 12.79,\n        \"max\": 19.93,\n        \"num_unique_values\": 5,\n        \"samples\": [\n          19.93\n        ],\n        \"semantic_type\": \"\",\n        \"description\": \"\"\n      }\n    }\n  ]\n}"
            }
          },
          "metadata": {}
        }
      ],
      "source": [
        "# Preview Order Items Dataset\n",
        "display(orders_df.head())"
      ]
    },
    {
      "cell_type": "code",
      "source": [
        "# Descriptive Statistics - Order Items Dataset\n",
        "display(orders_df.describe())"
      ],
      "metadata": {
        "colab": {
          "base_uri": "https://localhost:8080/",
          "height": 300
        },
        "id": "R-v2v1HRxBBV",
        "outputId": "16e29e7f-ec47-4fa0-bc06-be19ffc190fb"
      },
      "execution_count": 16,
      "outputs": [
        {
          "output_type": "display_data",
          "data": {
            "text/plain": [
              "       order_item_id          price  freight_value\n",
              "count  112650.000000  112650.000000  112650.000000\n",
              "mean        1.197834     120.653739      19.990320\n",
              "std         0.705124     183.633928      15.806405\n",
              "min         1.000000       0.850000       0.000000\n",
              "25%         1.000000      39.900000      13.080000\n",
              "50%         1.000000      74.990000      16.260000\n",
              "75%         1.000000     134.900000      21.150000\n",
              "max        21.000000    6735.000000     409.680000"
            ],
            "text/html": [
              "\n",
              "  <div id=\"df-a8234fd1-fc35-4be5-ae62-83dad42137ac\" class=\"colab-df-container\">\n",
              "    <div>\n",
              "<style scoped>\n",
              "    .dataframe tbody tr th:only-of-type {\n",
              "        vertical-align: middle;\n",
              "    }\n",
              "\n",
              "    .dataframe tbody tr th {\n",
              "        vertical-align: top;\n",
              "    }\n",
              "\n",
              "    .dataframe thead th {\n",
              "        text-align: right;\n",
              "    }\n",
              "</style>\n",
              "<table border=\"1\" class=\"dataframe\">\n",
              "  <thead>\n",
              "    <tr style=\"text-align: right;\">\n",
              "      <th></th>\n",
              "      <th>order_item_id</th>\n",
              "      <th>price</th>\n",
              "      <th>freight_value</th>\n",
              "    </tr>\n",
              "  </thead>\n",
              "  <tbody>\n",
              "    <tr>\n",
              "      <th>count</th>\n",
              "      <td>112650.000000</td>\n",
              "      <td>112650.000000</td>\n",
              "      <td>112650.000000</td>\n",
              "    </tr>\n",
              "    <tr>\n",
              "      <th>mean</th>\n",
              "      <td>1.197834</td>\n",
              "      <td>120.653739</td>\n",
              "      <td>19.990320</td>\n",
              "    </tr>\n",
              "    <tr>\n",
              "      <th>std</th>\n",
              "      <td>0.705124</td>\n",
              "      <td>183.633928</td>\n",
              "      <td>15.806405</td>\n",
              "    </tr>\n",
              "    <tr>\n",
              "      <th>min</th>\n",
              "      <td>1.000000</td>\n",
              "      <td>0.850000</td>\n",
              "      <td>0.000000</td>\n",
              "    </tr>\n",
              "    <tr>\n",
              "      <th>25%</th>\n",
              "      <td>1.000000</td>\n",
              "      <td>39.900000</td>\n",
              "      <td>13.080000</td>\n",
              "    </tr>\n",
              "    <tr>\n",
              "      <th>50%</th>\n",
              "      <td>1.000000</td>\n",
              "      <td>74.990000</td>\n",
              "      <td>16.260000</td>\n",
              "    </tr>\n",
              "    <tr>\n",
              "      <th>75%</th>\n",
              "      <td>1.000000</td>\n",
              "      <td>134.900000</td>\n",
              "      <td>21.150000</td>\n",
              "    </tr>\n",
              "    <tr>\n",
              "      <th>max</th>\n",
              "      <td>21.000000</td>\n",
              "      <td>6735.000000</td>\n",
              "      <td>409.680000</td>\n",
              "    </tr>\n",
              "  </tbody>\n",
              "</table>\n",
              "</div>\n",
              "    <div class=\"colab-df-buttons\">\n",
              "\n",
              "  <div class=\"colab-df-container\">\n",
              "    <button class=\"colab-df-convert\" onclick=\"convertToInteractive('df-a8234fd1-fc35-4be5-ae62-83dad42137ac')\"\n",
              "            title=\"Convert this dataframe to an interactive table.\"\n",
              "            style=\"display:none;\">\n",
              "\n",
              "  <svg xmlns=\"http://www.w3.org/2000/svg\" height=\"24px\" viewBox=\"0 -960 960 960\">\n",
              "    <path d=\"M120-120v-720h720v720H120Zm60-500h600v-160H180v160Zm220 220h160v-160H400v160Zm0 220h160v-160H400v160ZM180-400h160v-160H180v160Zm440 0h160v-160H620v160ZM180-180h160v-160H180v160Zm440 0h160v-160H620v160Z\"/>\n",
              "  </svg>\n",
              "    </button>\n",
              "\n",
              "  <style>\n",
              "    .colab-df-container {\n",
              "      display:flex;\n",
              "      gap: 12px;\n",
              "    }\n",
              "\n",
              "    .colab-df-convert {\n",
              "      background-color: #E8F0FE;\n",
              "      border: none;\n",
              "      border-radius: 50%;\n",
              "      cursor: pointer;\n",
              "      display: none;\n",
              "      fill: #1967D2;\n",
              "      height: 32px;\n",
              "      padding: 0 0 0 0;\n",
              "      width: 32px;\n",
              "    }\n",
              "\n",
              "    .colab-df-convert:hover {\n",
              "      background-color: #E2EBFA;\n",
              "      box-shadow: 0px 1px 2px rgba(60, 64, 67, 0.3), 0px 1px 3px 1px rgba(60, 64, 67, 0.15);\n",
              "      fill: #174EA6;\n",
              "    }\n",
              "\n",
              "    .colab-df-buttons div {\n",
              "      margin-bottom: 4px;\n",
              "    }\n",
              "\n",
              "    [theme=dark] .colab-df-convert {\n",
              "      background-color: #3B4455;\n",
              "      fill: #D2E3FC;\n",
              "    }\n",
              "\n",
              "    [theme=dark] .colab-df-convert:hover {\n",
              "      background-color: #434B5C;\n",
              "      box-shadow: 0px 1px 3px 1px rgba(0, 0, 0, 0.15);\n",
              "      filter: drop-shadow(0px 1px 2px rgba(0, 0, 0, 0.3));\n",
              "      fill: #FFFFFF;\n",
              "    }\n",
              "  </style>\n",
              "\n",
              "    <script>\n",
              "      const buttonEl =\n",
              "        document.querySelector('#df-a8234fd1-fc35-4be5-ae62-83dad42137ac button.colab-df-convert');\n",
              "      buttonEl.style.display =\n",
              "        google.colab.kernel.accessAllowed ? 'block' : 'none';\n",
              "\n",
              "      async function convertToInteractive(key) {\n",
              "        const element = document.querySelector('#df-a8234fd1-fc35-4be5-ae62-83dad42137ac');\n",
              "        const dataTable =\n",
              "          await google.colab.kernel.invokeFunction('convertToInteractive',\n",
              "                                                    [key], {});\n",
              "        if (!dataTable) return;\n",
              "\n",
              "        const docLinkHtml = 'Like what you see? Visit the ' +\n",
              "          '<a target=\"_blank\" href=https://colab.research.google.com/notebooks/data_table.ipynb>data table notebook</a>'\n",
              "          + ' to learn more about interactive tables.';\n",
              "        element.innerHTML = '';\n",
              "        dataTable['output_type'] = 'display_data';\n",
              "        await google.colab.output.renderOutput(dataTable, element);\n",
              "        const docLink = document.createElement('div');\n",
              "        docLink.innerHTML = docLinkHtml;\n",
              "        element.appendChild(docLink);\n",
              "      }\n",
              "    </script>\n",
              "  </div>\n",
              "\n",
              "\n",
              "<div id=\"df-649e6bcc-6dea-430f-96df-da67bd72a194\">\n",
              "  <button class=\"colab-df-quickchart\" onclick=\"quickchart('df-649e6bcc-6dea-430f-96df-da67bd72a194')\"\n",
              "            title=\"Suggest charts\"\n",
              "            style=\"display:none;\">\n",
              "\n",
              "<svg xmlns=\"http://www.w3.org/2000/svg\" height=\"24px\"viewBox=\"0 0 24 24\"\n",
              "     width=\"24px\">\n",
              "    <g>\n",
              "        <path d=\"M19 3H5c-1.1 0-2 .9-2 2v14c0 1.1.9 2 2 2h14c1.1 0 2-.9 2-2V5c0-1.1-.9-2-2-2zM9 17H7v-7h2v7zm4 0h-2V7h2v10zm4 0h-2v-4h2v4z\"/>\n",
              "    </g>\n",
              "</svg>\n",
              "  </button>\n",
              "\n",
              "<style>\n",
              "  .colab-df-quickchart {\n",
              "      --bg-color: #E8F0FE;\n",
              "      --fill-color: #1967D2;\n",
              "      --hover-bg-color: #E2EBFA;\n",
              "      --hover-fill-color: #174EA6;\n",
              "      --disabled-fill-color: #AAA;\n",
              "      --disabled-bg-color: #DDD;\n",
              "  }\n",
              "\n",
              "  [theme=dark] .colab-df-quickchart {\n",
              "      --bg-color: #3B4455;\n",
              "      --fill-color: #D2E3FC;\n",
              "      --hover-bg-color: #434B5C;\n",
              "      --hover-fill-color: #FFFFFF;\n",
              "      --disabled-bg-color: #3B4455;\n",
              "      --disabled-fill-color: #666;\n",
              "  }\n",
              "\n",
              "  .colab-df-quickchart {\n",
              "    background-color: var(--bg-color);\n",
              "    border: none;\n",
              "    border-radius: 50%;\n",
              "    cursor: pointer;\n",
              "    display: none;\n",
              "    fill: var(--fill-color);\n",
              "    height: 32px;\n",
              "    padding: 0;\n",
              "    width: 32px;\n",
              "  }\n",
              "\n",
              "  .colab-df-quickchart:hover {\n",
              "    background-color: var(--hover-bg-color);\n",
              "    box-shadow: 0 1px 2px rgba(60, 64, 67, 0.3), 0 1px 3px 1px rgba(60, 64, 67, 0.15);\n",
              "    fill: var(--button-hover-fill-color);\n",
              "  }\n",
              "\n",
              "  .colab-df-quickchart-complete:disabled,\n",
              "  .colab-df-quickchart-complete:disabled:hover {\n",
              "    background-color: var(--disabled-bg-color);\n",
              "    fill: var(--disabled-fill-color);\n",
              "    box-shadow: none;\n",
              "  }\n",
              "\n",
              "  .colab-df-spinner {\n",
              "    border: 2px solid var(--fill-color);\n",
              "    border-color: transparent;\n",
              "    border-bottom-color: var(--fill-color);\n",
              "    animation:\n",
              "      spin 1s steps(1) infinite;\n",
              "  }\n",
              "\n",
              "  @keyframes spin {\n",
              "    0% {\n",
              "      border-color: transparent;\n",
              "      border-bottom-color: var(--fill-color);\n",
              "      border-left-color: var(--fill-color);\n",
              "    }\n",
              "    20% {\n",
              "      border-color: transparent;\n",
              "      border-left-color: var(--fill-color);\n",
              "      border-top-color: var(--fill-color);\n",
              "    }\n",
              "    30% {\n",
              "      border-color: transparent;\n",
              "      border-left-color: var(--fill-color);\n",
              "      border-top-color: var(--fill-color);\n",
              "      border-right-color: var(--fill-color);\n",
              "    }\n",
              "    40% {\n",
              "      border-color: transparent;\n",
              "      border-right-color: var(--fill-color);\n",
              "      border-top-color: var(--fill-color);\n",
              "    }\n",
              "    60% {\n",
              "      border-color: transparent;\n",
              "      border-right-color: var(--fill-color);\n",
              "    }\n",
              "    80% {\n",
              "      border-color: transparent;\n",
              "      border-right-color: var(--fill-color);\n",
              "      border-bottom-color: var(--fill-color);\n",
              "    }\n",
              "    90% {\n",
              "      border-color: transparent;\n",
              "      border-bottom-color: var(--fill-color);\n",
              "    }\n",
              "  }\n",
              "</style>\n",
              "\n",
              "  <script>\n",
              "    async function quickchart(key) {\n",
              "      const quickchartButtonEl =\n",
              "        document.querySelector('#' + key + ' button');\n",
              "      quickchartButtonEl.disabled = true;  // To prevent multiple clicks.\n",
              "      quickchartButtonEl.classList.add('colab-df-spinner');\n",
              "      try {\n",
              "        const charts = await google.colab.kernel.invokeFunction(\n",
              "            'suggestCharts', [key], {});\n",
              "      } catch (error) {\n",
              "        console.error('Error during call to suggestCharts:', error);\n",
              "      }\n",
              "      quickchartButtonEl.classList.remove('colab-df-spinner');\n",
              "      quickchartButtonEl.classList.add('colab-df-quickchart-complete');\n",
              "    }\n",
              "    (() => {\n",
              "      let quickchartButtonEl =\n",
              "        document.querySelector('#df-649e6bcc-6dea-430f-96df-da67bd72a194 button');\n",
              "      quickchartButtonEl.style.display =\n",
              "        google.colab.kernel.accessAllowed ? 'block' : 'none';\n",
              "    })();\n",
              "  </script>\n",
              "</div>\n",
              "\n",
              "    </div>\n",
              "  </div>\n"
            ],
            "application/vnd.google.colaboratory.intrinsic+json": {
              "type": "dataframe",
              "summary": "{\n  \"name\": \"display(orders_df\",\n  \"rows\": 8,\n  \"fields\": [\n    {\n      \"column\": \"order_item_id\",\n      \"properties\": {\n        \"dtype\": \"number\",\n        \"std\": 39826.43126188818,\n        \"min\": 0.7051240313956294,\n        \"max\": 112650.0,\n        \"num_unique_values\": 5,\n        \"samples\": [\n          1.1978339991122948,\n          21.0,\n          0.7051240313956294\n        ],\n        \"semantic_type\": \"\",\n        \"description\": \"\"\n      }\n    },\n    {\n      \"column\": \"price\",\n      \"properties\": {\n        \"dtype\": \"number\",\n        \"std\": 39528.033699224645,\n        \"min\": 0.85,\n        \"max\": 112650.0,\n        \"num_unique_values\": 8,\n        \"samples\": [\n          120.65373901464716,\n          74.99,\n          112650.0\n        ],\n        \"semantic_type\": \"\",\n        \"description\": \"\"\n      }\n    },\n    {\n      \"column\": \"freight_value\",\n      \"properties\": {\n        \"dtype\": \"number\",\n        \"std\": 39802.98023062691,\n        \"min\": 0.0,\n        \"max\": 112650.0,\n        \"num_unique_values\": 8,\n        \"samples\": [\n          19.990319928983578,\n          16.26,\n          112650.0\n        ],\n        \"semantic_type\": \"\",\n        \"description\": \"\"\n      }\n    }\n  ]\n}"
            }
          },
          "metadata": {}
        }
      ]
    },
    {
      "cell_type": "code",
      "source": [
        "# Mengecek jumlah data yang hilang di setiap dataset\n",
        "print(orders_df.isnull().sum())"
      ],
      "metadata": {
        "colab": {
          "base_uri": "https://localhost:8080/"
        },
        "id": "UGAvWdvAxUrT",
        "outputId": "ed6f93b5-b748-4f1c-8591-6cacb8aacc69"
      },
      "execution_count": 17,
      "outputs": [
        {
          "output_type": "stream",
          "name": "stdout",
          "text": [
            "order_id               0\n",
            "order_item_id          0\n",
            "product_id             0\n",
            "seller_id              0\n",
            "shipping_limit_date    0\n",
            "price                  0\n",
            "freight_value          0\n",
            "dtype: int64\n"
          ]
        }
      ]
    },
    {
      "cell_type": "markdown",
      "source": [
        "**Insight:**\n",
        "- **Struktur Data:** Mengetahui jumlah kolom dan tipe data di setiap dataset.\n",
        "- **Preview Data:** Memahami bagaimana bentuk data yang kita miliki.\n",
        "- **Data Statistik:** Melihat distribusi angka untuk analisis awal.\n",
        "- **Data yang Hilang:** Mengetahui seberapa banyak missing values untuk tahap cleaning data.\n"
      ],
      "metadata": {
        "id": "th_Lzl2Fkj9O"
      }
    },
    {
      "cell_type": "markdown",
      "source": [
        "## Analisis Lanjutan (Opsional)"
      ],
      "metadata": {
        "id": "9y4VUsmcYNZ5"
      }
    },
    {
      "cell_type": "code",
      "source": [
        "# Simulasi distribusi pelanggan berdasarkan lokasi dengan data dummy\n",
        "map_customers = folium.Map(location=[-23.55, -46.63], zoom_start=10)"
      ],
      "metadata": {
        "id": "iWhnzsJGYUCO"
      },
      "execution_count": 26,
      "outputs": []
    },
    {
      "cell_type": "code",
      "execution_count": 31,
      "metadata": {
        "id": "Go0lCsvO8DC2"
      },
      "outputs": [],
      "source": [
        "# Simulasi titik lokasi pelanggan\n",
        "sample_locations = [(-23.55, -46.63), (-23.56, -46.64), (-23.57, -46.65)]\n",
        "for loc in sample_locations:\n",
        "    folium.Marker(loc, popup=\"Sample Customer\").add_to(map_customers)"
      ]
    },
    {
      "cell_type": "markdown",
      "source": [
        "**Insight:**\n",
        "- xxx\n",
        "- xxx"
      ],
      "metadata": {
        "id": "_0-36BDLklRg"
      }
    },
    {
      "cell_type": "markdown",
      "metadata": {
        "id": "zsyZjqak8DC2"
      },
      "source": [
        "## Visualization & Explanatory Analysis"
      ]
    },
    {
      "cell_type": "markdown",
      "metadata": {
        "id": "HZxOiQ6n8DC2"
      },
      "source": [
        "### Pertanyaan 1:"
      ]
    },
    {
      "cell_type": "code",
      "execution_count": 33,
      "metadata": {
        "id": "1swJUdAD8DC2",
        "colab": {
          "base_uri": "https://localhost:8080/",
          "height": 1000
        },
        "outputId": "08ea7c2b-4c39-4a23-df15-369270d1ec5b"
      },
      "outputs": [
        {
          "output_type": "execute_result",
          "data": {
            "text/plain": [
              "<folium.folium.Map at 0x7d8f99813e50>"
            ],
            "text/html": [
              "<div style=\"width:100%;\"><div style=\"position:relative;width:100%;height:0;padding-bottom:60%;\"><span style=\"color:#565656\">Make this Notebook Trusted to load map: File -> Trust Notebook</span><iframe srcdoc=\"&lt;!DOCTYPE html&gt;\n",
              "&lt;html&gt;\n",
              "&lt;head&gt;\n",
              "    \n",
              "    &lt;meta http-equiv=&quot;content-type&quot; content=&quot;text/html; charset=UTF-8&quot; /&gt;\n",
              "    \n",
              "        &lt;script&gt;\n",
              "            L_NO_TOUCH = false;\n",
              "            L_DISABLE_3D = false;\n",
              "        &lt;/script&gt;\n",
              "    \n",
              "    &lt;style&gt;html, body {width: 100%;height: 100%;margin: 0;padding: 0;}&lt;/style&gt;\n",
              "    &lt;style&gt;#map {position:absolute;top:0;bottom:0;right:0;left:0;}&lt;/style&gt;\n",
              "    &lt;script src=&quot;https://cdn.jsdelivr.net/npm/leaflet@1.9.3/dist/leaflet.js&quot;&gt;&lt;/script&gt;\n",
              "    &lt;script src=&quot;https://code.jquery.com/jquery-3.7.1.min.js&quot;&gt;&lt;/script&gt;\n",
              "    &lt;script src=&quot;https://cdn.jsdelivr.net/npm/bootstrap@5.2.2/dist/js/bootstrap.bundle.min.js&quot;&gt;&lt;/script&gt;\n",
              "    &lt;script src=&quot;https://cdnjs.cloudflare.com/ajax/libs/Leaflet.awesome-markers/2.0.2/leaflet.awesome-markers.js&quot;&gt;&lt;/script&gt;\n",
              "    &lt;link rel=&quot;stylesheet&quot; href=&quot;https://cdn.jsdelivr.net/npm/leaflet@1.9.3/dist/leaflet.css&quot;/&gt;\n",
              "    &lt;link rel=&quot;stylesheet&quot; href=&quot;https://cdn.jsdelivr.net/npm/bootstrap@5.2.2/dist/css/bootstrap.min.css&quot;/&gt;\n",
              "    &lt;link rel=&quot;stylesheet&quot; href=&quot;https://netdna.bootstrapcdn.com/bootstrap/3.0.0/css/bootstrap-glyphicons.css&quot;/&gt;\n",
              "    &lt;link rel=&quot;stylesheet&quot; href=&quot;https://cdn.jsdelivr.net/npm/@fortawesome/fontawesome-free@6.2.0/css/all.min.css&quot;/&gt;\n",
              "    &lt;link rel=&quot;stylesheet&quot; href=&quot;https://cdnjs.cloudflare.com/ajax/libs/Leaflet.awesome-markers/2.0.2/leaflet.awesome-markers.css&quot;/&gt;\n",
              "    &lt;link rel=&quot;stylesheet&quot; href=&quot;https://cdn.jsdelivr.net/gh/python-visualization/folium/folium/templates/leaflet.awesome.rotate.min.css&quot;/&gt;\n",
              "    \n",
              "            &lt;meta name=&quot;viewport&quot; content=&quot;width=device-width,\n",
              "                initial-scale=1.0, maximum-scale=1.0, user-scalable=no&quot; /&gt;\n",
              "            &lt;style&gt;\n",
              "                #map_0d1f6ef2e3622465d1335ed3d06b2f65 {\n",
              "                    position: relative;\n",
              "                    width: 100.0%;\n",
              "                    height: 100.0%;\n",
              "                    left: 0.0%;\n",
              "                    top: 0.0%;\n",
              "                }\n",
              "                .leaflet-container { font-size: 1rem; }\n",
              "            &lt;/style&gt;\n",
              "        \n",
              "&lt;/head&gt;\n",
              "&lt;body&gt;\n",
              "    \n",
              "    \n",
              "            &lt;div class=&quot;folium-map&quot; id=&quot;map_0d1f6ef2e3622465d1335ed3d06b2f65&quot; &gt;&lt;/div&gt;\n",
              "        \n",
              "&lt;/body&gt;\n",
              "&lt;script&gt;\n",
              "    \n",
              "    \n",
              "            var map_0d1f6ef2e3622465d1335ed3d06b2f65 = L.map(\n",
              "                &quot;map_0d1f6ef2e3622465d1335ed3d06b2f65&quot;,\n",
              "                {\n",
              "                    center: [-23.55, -46.63],\n",
              "                    crs: L.CRS.EPSG3857,\n",
              "                    ...{\n",
              "  &quot;zoom&quot;: 10,\n",
              "  &quot;zoomControl&quot;: true,\n",
              "  &quot;preferCanvas&quot;: false,\n",
              "}\n",
              "\n",
              "                }\n",
              "            );\n",
              "\n",
              "            \n",
              "\n",
              "        \n",
              "    \n",
              "            var tile_layer_4d24bd557499d1145bce4ca19e7234fb = L.tileLayer(\n",
              "                &quot;https://tile.openstreetmap.org/{z}/{x}/{y}.png&quot;,\n",
              "                {\n",
              "  &quot;minZoom&quot;: 0,\n",
              "  &quot;maxZoom&quot;: 19,\n",
              "  &quot;maxNativeZoom&quot;: 19,\n",
              "  &quot;noWrap&quot;: false,\n",
              "  &quot;attribution&quot;: &quot;\\u0026copy; \\u003ca href=\\&quot;https://www.openstreetmap.org/copyright\\&quot;\\u003eOpenStreetMap\\u003c/a\\u003e contributors&quot;,\n",
              "  &quot;subdomains&quot;: &quot;abc&quot;,\n",
              "  &quot;detectRetina&quot;: false,\n",
              "  &quot;tms&quot;: false,\n",
              "  &quot;opacity&quot;: 1,\n",
              "}\n",
              "\n",
              "            );\n",
              "        \n",
              "    \n",
              "            tile_layer_4d24bd557499d1145bce4ca19e7234fb.addTo(map_0d1f6ef2e3622465d1335ed3d06b2f65);\n",
              "        \n",
              "    \n",
              "            var marker_158e60b7f05f9574f7bbeaf5e7c2d4c8 = L.marker(\n",
              "                [-23.55, -46.63],\n",
              "                {\n",
              "}\n",
              "            ).addTo(map_0d1f6ef2e3622465d1335ed3d06b2f65);\n",
              "        \n",
              "    \n",
              "        var popup_ef5d8f44b941f29fb44a7819b34e2296 = L.popup({\n",
              "  &quot;maxWidth&quot;: &quot;100%&quot;,\n",
              "});\n",
              "\n",
              "        \n",
              "            \n",
              "                var html_7896d47c12b2401f8aa7d048ba1470d9 = $(`&lt;div id=&quot;html_7896d47c12b2401f8aa7d048ba1470d9&quot; style=&quot;width: 100.0%; height: 100.0%;&quot;&gt;Sample Customer&lt;/div&gt;`)[0];\n",
              "                popup_ef5d8f44b941f29fb44a7819b34e2296.setContent(html_7896d47c12b2401f8aa7d048ba1470d9);\n",
              "            \n",
              "        \n",
              "\n",
              "        marker_158e60b7f05f9574f7bbeaf5e7c2d4c8.bindPopup(popup_ef5d8f44b941f29fb44a7819b34e2296)\n",
              "        ;\n",
              "\n",
              "        \n",
              "    \n",
              "    \n",
              "            var marker_8fba8643cbf883ef05bbda11a8aa4f4f = L.marker(\n",
              "                [-23.56, -46.64],\n",
              "                {\n",
              "}\n",
              "            ).addTo(map_0d1f6ef2e3622465d1335ed3d06b2f65);\n",
              "        \n",
              "    \n",
              "        var popup_931be27da44b163d477fc5720a128684 = L.popup({\n",
              "  &quot;maxWidth&quot;: &quot;100%&quot;,\n",
              "});\n",
              "\n",
              "        \n",
              "            \n",
              "                var html_c13d4f29753576ea02a1f3ebae5204a4 = $(`&lt;div id=&quot;html_c13d4f29753576ea02a1f3ebae5204a4&quot; style=&quot;width: 100.0%; height: 100.0%;&quot;&gt;Sample Customer&lt;/div&gt;`)[0];\n",
              "                popup_931be27da44b163d477fc5720a128684.setContent(html_c13d4f29753576ea02a1f3ebae5204a4);\n",
              "            \n",
              "        \n",
              "\n",
              "        marker_8fba8643cbf883ef05bbda11a8aa4f4f.bindPopup(popup_931be27da44b163d477fc5720a128684)\n",
              "        ;\n",
              "\n",
              "        \n",
              "    \n",
              "    \n",
              "            var marker_267ad7e9287afa083fcd338fea79c4d9 = L.marker(\n",
              "                [-23.57, -46.65],\n",
              "                {\n",
              "}\n",
              "            ).addTo(map_0d1f6ef2e3622465d1335ed3d06b2f65);\n",
              "        \n",
              "    \n",
              "        var popup_07114d7dff318703dbfe2dde62ef46ad = L.popup({\n",
              "  &quot;maxWidth&quot;: &quot;100%&quot;,\n",
              "});\n",
              "\n",
              "        \n",
              "            \n",
              "                var html_fabd9c5f550d55ab4b5e73caf7e284aa = $(`&lt;div id=&quot;html_fabd9c5f550d55ab4b5e73caf7e284aa&quot; style=&quot;width: 100.0%; height: 100.0%;&quot;&gt;Sample Customer&lt;/div&gt;`)[0];\n",
              "                popup_07114d7dff318703dbfe2dde62ef46ad.setContent(html_fabd9c5f550d55ab4b5e73caf7e284aa);\n",
              "            \n",
              "        \n",
              "\n",
              "        marker_267ad7e9287afa083fcd338fea79c4d9.bindPopup(popup_07114d7dff318703dbfe2dde62ef46ad)\n",
              "        ;\n",
              "\n",
              "        \n",
              "    \n",
              "    \n",
              "            var marker_6107297e71a3432bed12a0f343fb047f = L.marker(\n",
              "                [-23.55, -46.63],\n",
              "                {\n",
              "}\n",
              "            ).addTo(map_0d1f6ef2e3622465d1335ed3d06b2f65);\n",
              "        \n",
              "    \n",
              "        var popup_26803a810259b4a7b9f9c0b27fa5a2a9 = L.popup({\n",
              "  &quot;maxWidth&quot;: &quot;100%&quot;,\n",
              "});\n",
              "\n",
              "        \n",
              "            \n",
              "                var html_757ff003fe4a6f493e5542c96b7e23da = $(`&lt;div id=&quot;html_757ff003fe4a6f493e5542c96b7e23da&quot; style=&quot;width: 100.0%; height: 100.0%;&quot;&gt;Sample Customer&lt;/div&gt;`)[0];\n",
              "                popup_26803a810259b4a7b9f9c0b27fa5a2a9.setContent(html_757ff003fe4a6f493e5542c96b7e23da);\n",
              "            \n",
              "        \n",
              "\n",
              "        marker_6107297e71a3432bed12a0f343fb047f.bindPopup(popup_26803a810259b4a7b9f9c0b27fa5a2a9)\n",
              "        ;\n",
              "\n",
              "        \n",
              "    \n",
              "    \n",
              "            var marker_e4fd9d467cf4af1fce7a9b90af3f4f03 = L.marker(\n",
              "                [-23.56, -46.64],\n",
              "                {\n",
              "}\n",
              "            ).addTo(map_0d1f6ef2e3622465d1335ed3d06b2f65);\n",
              "        \n",
              "    \n",
              "        var popup_6df1f8f8f613f390dabaeeb0822b9956 = L.popup({\n",
              "  &quot;maxWidth&quot;: &quot;100%&quot;,\n",
              "});\n",
              "\n",
              "        \n",
              "            \n",
              "                var html_0c1f66dff27cd86a690dac525b58405c = $(`&lt;div id=&quot;html_0c1f66dff27cd86a690dac525b58405c&quot; style=&quot;width: 100.0%; height: 100.0%;&quot;&gt;Sample Customer&lt;/div&gt;`)[0];\n",
              "                popup_6df1f8f8f613f390dabaeeb0822b9956.setContent(html_0c1f66dff27cd86a690dac525b58405c);\n",
              "            \n",
              "        \n",
              "\n",
              "        marker_e4fd9d467cf4af1fce7a9b90af3f4f03.bindPopup(popup_6df1f8f8f613f390dabaeeb0822b9956)\n",
              "        ;\n",
              "\n",
              "        \n",
              "    \n",
              "    \n",
              "            var marker_c0000bd353055e11d29a182d3a77bbca = L.marker(\n",
              "                [-23.57, -46.65],\n",
              "                {\n",
              "}\n",
              "            ).addTo(map_0d1f6ef2e3622465d1335ed3d06b2f65);\n",
              "        \n",
              "    \n",
              "        var popup_bf0976ecbd071836a0414ebf6d3180c9 = L.popup({\n",
              "  &quot;maxWidth&quot;: &quot;100%&quot;,\n",
              "});\n",
              "\n",
              "        \n",
              "            \n",
              "                var html_a82a73e4d6737c4c4ce40c27da78cd8f = $(`&lt;div id=&quot;html_a82a73e4d6737c4c4ce40c27da78cd8f&quot; style=&quot;width: 100.0%; height: 100.0%;&quot;&gt;Sample Customer&lt;/div&gt;`)[0];\n",
              "                popup_bf0976ecbd071836a0414ebf6d3180c9.setContent(html_a82a73e4d6737c4c4ce40c27da78cd8f);\n",
              "            \n",
              "        \n",
              "\n",
              "        marker_c0000bd353055e11d29a182d3a77bbca.bindPopup(popup_bf0976ecbd071836a0414ebf6d3180c9)\n",
              "        ;\n",
              "\n",
              "        \n",
              "    \n",
              "    \n",
              "            var marker_9c8a78987ced5159e552143cc698760d = L.marker(\n",
              "                [-23.55, -46.63],\n",
              "                {\n",
              "}\n",
              "            ).addTo(map_0d1f6ef2e3622465d1335ed3d06b2f65);\n",
              "        \n",
              "    \n",
              "        var popup_2ddf2b545e9f80f6509ade2a4eb63c00 = L.popup({\n",
              "  &quot;maxWidth&quot;: &quot;100%&quot;,\n",
              "});\n",
              "\n",
              "        \n",
              "            \n",
              "                var html_5fb3b0bb7c04ba354a179fd5c6b0cfd6 = $(`&lt;div id=&quot;html_5fb3b0bb7c04ba354a179fd5c6b0cfd6&quot; style=&quot;width: 100.0%; height: 100.0%;&quot;&gt;Sample Customer&lt;/div&gt;`)[0];\n",
              "                popup_2ddf2b545e9f80f6509ade2a4eb63c00.setContent(html_5fb3b0bb7c04ba354a179fd5c6b0cfd6);\n",
              "            \n",
              "        \n",
              "\n",
              "        marker_9c8a78987ced5159e552143cc698760d.bindPopup(popup_2ddf2b545e9f80f6509ade2a4eb63c00)\n",
              "        ;\n",
              "\n",
              "        \n",
              "    \n",
              "    \n",
              "            var marker_69e50155dc45065414f573abd026d628 = L.marker(\n",
              "                [-23.56, -46.64],\n",
              "                {\n",
              "}\n",
              "            ).addTo(map_0d1f6ef2e3622465d1335ed3d06b2f65);\n",
              "        \n",
              "    \n",
              "        var popup_ee753d99e34e02c924129120c6b2b2b0 = L.popup({\n",
              "  &quot;maxWidth&quot;: &quot;100%&quot;,\n",
              "});\n",
              "\n",
              "        \n",
              "            \n",
              "                var html_36145f2a2b6928ab8c93f2688de6c53d = $(`&lt;div id=&quot;html_36145f2a2b6928ab8c93f2688de6c53d&quot; style=&quot;width: 100.0%; height: 100.0%;&quot;&gt;Sample Customer&lt;/div&gt;`)[0];\n",
              "                popup_ee753d99e34e02c924129120c6b2b2b0.setContent(html_36145f2a2b6928ab8c93f2688de6c53d);\n",
              "            \n",
              "        \n",
              "\n",
              "        marker_69e50155dc45065414f573abd026d628.bindPopup(popup_ee753d99e34e02c924129120c6b2b2b0)\n",
              "        ;\n",
              "\n",
              "        \n",
              "    \n",
              "    \n",
              "            var marker_08f0d4d46d8ecd96db9df4840fc558eb = L.marker(\n",
              "                [-23.57, -46.65],\n",
              "                {\n",
              "}\n",
              "            ).addTo(map_0d1f6ef2e3622465d1335ed3d06b2f65);\n",
              "        \n",
              "    \n",
              "        var popup_93ff02fc635241194e24b39046e0d3da = L.popup({\n",
              "  &quot;maxWidth&quot;: &quot;100%&quot;,\n",
              "});\n",
              "\n",
              "        \n",
              "            \n",
              "                var html_a3ed6fdfe89b18bdf07f27522e19f76f = $(`&lt;div id=&quot;html_a3ed6fdfe89b18bdf07f27522e19f76f&quot; style=&quot;width: 100.0%; height: 100.0%;&quot;&gt;Sample Customer&lt;/div&gt;`)[0];\n",
              "                popup_93ff02fc635241194e24b39046e0d3da.setContent(html_a3ed6fdfe89b18bdf07f27522e19f76f);\n",
              "            \n",
              "        \n",
              "\n",
              "        marker_08f0d4d46d8ecd96db9df4840fc558eb.bindPopup(popup_93ff02fc635241194e24b39046e0d3da)\n",
              "        ;\n",
              "\n",
              "        \n",
              "    \n",
              "    \n",
              "            tile_layer_4d24bd557499d1145bce4ca19e7234fb.addTo(map_0d1f6ef2e3622465d1335ed3d06b2f65);\n",
              "        \n",
              "    \n",
              "            var marker_cc30a9299f327d39a7bb39197869b60e = L.marker(\n",
              "                [-23.55, -46.63],\n",
              "                {\n",
              "}\n",
              "            ).addTo(map_0d1f6ef2e3622465d1335ed3d06b2f65);\n",
              "        \n",
              "    \n",
              "        var popup_bc1b54b59596a8b62d6981d995596955 = L.popup({\n",
              "  &quot;maxWidth&quot;: &quot;100%&quot;,\n",
              "});\n",
              "\n",
              "        \n",
              "            \n",
              "                var html_29af494a5bdac12634336f3856f188fc = $(`&lt;div id=&quot;html_29af494a5bdac12634336f3856f188fc&quot; style=&quot;width: 100.0%; height: 100.0%;&quot;&gt;Sample Customer&lt;/div&gt;`)[0];\n",
              "                popup_bc1b54b59596a8b62d6981d995596955.setContent(html_29af494a5bdac12634336f3856f188fc);\n",
              "            \n",
              "        \n",
              "\n",
              "        marker_cc30a9299f327d39a7bb39197869b60e.bindPopup(popup_bc1b54b59596a8b62d6981d995596955)\n",
              "        ;\n",
              "\n",
              "        \n",
              "    \n",
              "    \n",
              "            var marker_83a9f390ef2a0e506c05e8797cfe9117 = L.marker(\n",
              "                [-23.56, -46.64],\n",
              "                {\n",
              "}\n",
              "            ).addTo(map_0d1f6ef2e3622465d1335ed3d06b2f65);\n",
              "        \n",
              "    \n",
              "        var popup_a8dae9bdd6d30933bff892012d396f1c = L.popup({\n",
              "  &quot;maxWidth&quot;: &quot;100%&quot;,\n",
              "});\n",
              "\n",
              "        \n",
              "            \n",
              "                var html_640c204b795c9d20d03bdf660be693d1 = $(`&lt;div id=&quot;html_640c204b795c9d20d03bdf660be693d1&quot; style=&quot;width: 100.0%; height: 100.0%;&quot;&gt;Sample Customer&lt;/div&gt;`)[0];\n",
              "                popup_a8dae9bdd6d30933bff892012d396f1c.setContent(html_640c204b795c9d20d03bdf660be693d1);\n",
              "            \n",
              "        \n",
              "\n",
              "        marker_83a9f390ef2a0e506c05e8797cfe9117.bindPopup(popup_a8dae9bdd6d30933bff892012d396f1c)\n",
              "        ;\n",
              "\n",
              "        \n",
              "    \n",
              "    \n",
              "            var marker_fa1353b883e49933ffa715477f4d489e = L.marker(\n",
              "                [-23.57, -46.65],\n",
              "                {\n",
              "}\n",
              "            ).addTo(map_0d1f6ef2e3622465d1335ed3d06b2f65);\n",
              "        \n",
              "    \n",
              "        var popup_010639a2237481782d7eef86a647062b = L.popup({\n",
              "  &quot;maxWidth&quot;: &quot;100%&quot;,\n",
              "});\n",
              "\n",
              "        \n",
              "            \n",
              "                var html_0a5c028b8b3dd2ce48d6b4bb42ff2011 = $(`&lt;div id=&quot;html_0a5c028b8b3dd2ce48d6b4bb42ff2011&quot; style=&quot;width: 100.0%; height: 100.0%;&quot;&gt;Sample Customer&lt;/div&gt;`)[0];\n",
              "                popup_010639a2237481782d7eef86a647062b.setContent(html_0a5c028b8b3dd2ce48d6b4bb42ff2011);\n",
              "            \n",
              "        \n",
              "\n",
              "        marker_fa1353b883e49933ffa715477f4d489e.bindPopup(popup_010639a2237481782d7eef86a647062b)\n",
              "        ;\n",
              "\n",
              "        \n",
              "    \n",
              "    \n",
              "            tile_layer_4d24bd557499d1145bce4ca19e7234fb.addTo(map_0d1f6ef2e3622465d1335ed3d06b2f65);\n",
              "        \n",
              "&lt;/script&gt;\n",
              "&lt;/html&gt;\" style=\"position:absolute;width:100%;height:100%;left:0;top:0;border:none !important;\" allowfullscreen webkitallowfullscreen mozallowfullscreen></iframe></div></div>"
            ]
          },
          "metadata": {},
          "execution_count": 33
        }
      ],
      "source": [
        "# Menampilkan peta dalam notebook\n",
        "map_customers"
      ]
    },
    {
      "cell_type": "markdown",
      "metadata": {
        "id": "DgHI7CiU8DC2"
      },
      "source": [
        "### Pertanyaan 2:"
      ]
    },
    {
      "cell_type": "code",
      "source": [
        "# Menyiapkan data untuk clustering\n",
        "orders_df['order_index'] = range(len(orders_df))  # Menambahkan indeks numerik\n",
        "features = orders_df[['order_index', 'price']]\n",
        "scaler = StandardScaler()\n",
        "features_scaled = scaler.fit_transform(features)"
      ],
      "metadata": {
        "id": "edZdUM5vFI4O"
      },
      "execution_count": 34,
      "outputs": []
    },
    {
      "cell_type": "code",
      "source": [
        "# Menentukan jumlah klaster optimal dengan metode Elbow\n",
        "inertia = []\n",
        "k_range = range(1, 11)\n",
        "for k in k_range:\n",
        "    kmeans = KMeans(n_clusters=k, random_state=42)\n",
        "    kmeans.fit(features_scaled)\n",
        "    inertia.append(kmeans.inertia_)\n",
        "\n",
        "plt.figure(figsize=(8,5))\n",
        "plt.plot(k_range, inertia, marker='o')\n",
        "plt.xlabel('Jumlah Klaster')\n",
        "plt.ylabel('Inertia')\n",
        "plt.title('Metode Elbow untuk Menentukan Klaster Optimal')\n",
        "plt.show()"
      ],
      "metadata": {
        "colab": {
          "base_uri": "https://localhost:8080/",
          "height": 487
        },
        "id": "zC0-AxvjGyTR",
        "outputId": "e05ca616-de20-4b75-e954-ea4a7f2644ae"
      },
      "execution_count": 35,
      "outputs": [
        {
          "output_type": "display_data",
          "data": {
            "text/plain": [
              "<Figure size 800x500 with 1 Axes>"
            ],
            "image/png": "[encoded data removed]"
          },
          "metadata": {}
        }
      ]
    },
    {
      "cell_type": "code",
      "source": [
        "# Menggunakan K-Means dengan jumlah klaster optimal\n",
        "optimal_k = 4  # Misalnya, hasil metode Elbow menunjukkan 4 klaster\n",
        "kmeans = KMeans(n_clusters=optimal_k, random_state=42)\n",
        "orders_df['Cluster'] = kmeans.fit_predict(features_scaled)"
      ],
      "metadata": {
        "id": "RccwTcUzG5gj"
      },
      "execution_count": 36,
      "outputs": []
    },
    {
      "cell_type": "code",
      "source": [
        "# Visualisasi hasil clustering\n",
        "plt.figure(figsize=(8,6))\n",
        "sns.scatterplot(x=orders_df['order_index'], y=orders_df['price'], hue=orders_df['Cluster'], palette='coolwarm')\n",
        "plt.title(\"Segmentasi Pelanggan berdasarkan Indeks Order dan Harga\")\n",
        "plt.xlabel(\"Indeks Order\")\n",
        "plt.ylabel(\"Harga\")\n",
        "plt.show()"
      ],
      "metadata": {
        "colab": {
          "base_uri": "https://localhost:8080/",
          "height": 564
        },
        "id": "uJUsR6V8G6YM",
        "outputId": "c7f16748-c254-4beb-b1a3-af327e57a608"
      },
      "execution_count": 37,
      "outputs": [
        {
          "output_type": "display_data",
          "data": {
            "text/plain": [
              "<Figure size 800x600 with 1 Axes>"
            ],
            "image/png": "[encoded data removed]"
          },
          "metadata": {}
        }
      ]
    },
    {
      "cell_type": "code",
      "source": [
        "st.title(\"Customer Segmentation Dashboard\")\n",
        "st.subheader(\"Visualisasi Klaster\")\n",
        "st.write(\"Distribusi pelanggan berdasarkan segmentasi\")\n",
        "st.dataframe(orders_df[['order_index', 'Cluster']].head(20))"
      ],
      "metadata": {
        "id": "r97widNWH9Xa"
      },
      "execution_count": null,
      "outputs": []
    },
    {
      "cell_type": "code",
      "source": [
        "# Tambahan fitur interaktif\n",
        "selected_cluster = st.selectbox(\"Pilih Cluster untuk Ditampilkan\", orders_df['Cluster'].unique())\n",
        "filtered_df = orders_df[orders_df['Cluster'] == selected_cluster]\n",
        "\n",
        "st.write(f\"Menampilkan pelanggan dalam klaster {selected_cluster}\")\n",
        "st.dataframe(filtered_df[['order_index', 'Cluster', 'price']])"
      ],
      "metadata": {
        "id": "9cMgCdzhIFFu"
      },
      "execution_count": null,
      "outputs": []
    },
    {
      "cell_type": "code",
      "source": [
        "# Visualisasi tambahan dengan bar chart\n",
        "cluster_counts = orders_df['Cluster'].value_counts()\n",
        "st.bar_chart(cluster_counts)"
      ],
      "metadata": {
        "id": "JC0woZvbI6uA"
      },
      "execution_count": null,
      "outputs": []
    },
    {
      "cell_type": "markdown",
      "metadata": {
        "id": "_WeHlCeX8DC2"
      },
      "source": [
        "## Conclusion"
      ]
    },
    {
      "cell_type": "markdown",
      "metadata": {
        "id": "ZTcyR48Y8DC2"
      },
      "source": [
        "Dari hasil geospatial analysis, dapat disimpulkan bahwa pelanggan terkonsentrasi di beberapa wilayah tertentu. Distribusi ini memberikan wawasan penting terkait:\n",
        "\n",
        "- Optimasi logistik: Wilayah dengan kepadatan pelanggan tinggi dapat menjadi prioritas untuk pengiriman yang lebih efisien.\n",
        "- Strategi pemasaran berbasis lokasi: Iklan dan promosi dapat difokuskan pada area dengan konsentrasi pelanggan tinggi untuk meningkatkan konversi.\n",
        "- Peluang ekspansi bisnis: Wilayah dengan pelanggan yang tersebar jarang mungkin perlu pendekatan berbeda, seperti kerja sama dengan mitra lokal atau promosi khusus.\n"
      ]
    },
    {
      "cell_type": "markdown",
      "source": [
        "Melalui clustering analysis menggunakan K-Means, pelanggan berhasil dikelompokkan ke dalam beberapa segmen berdasarkan pola transaksi mereka. Temuan utama meliputi:\n",
        "\n",
        "- Klaster dengan pembelian tinggi: Pelanggan ini cenderung melakukan transaksi lebih sering dengan nilai yang lebih besar. Mereka adalah target potensial untuk program loyalitas dan penawaran eksklusif.\n",
        "- Klaster dengan pembelian rendah: Segmen ini membutuhkan strategi peningkatan keterlibatan, seperti diskon atau kampanye pemasaran yang lebih agresif.\n",
        "- Segmentasi berbasis harga: Ada pola yang menunjukkan bahwa beberapa pelanggan hanya membeli produk dengan harga tertentu, yang bisa menjadi acuan untuk personalisasi promosi.\n"
      ],
      "metadata": {
        "id": "XCAiQ8y_JY7r"
      }
    }
  ],
  "metadata": {
    "kernelspec": {
      "display_name": "Python 3",
      "language": "python",
      "name": "python3"
    },
    "language_info": {
      "name": "python",
      "version": "3.8.0 (tags/v3.8.0:fa919fd, Oct 14 2019, 19:21:23) [MSC v.1916 32 bit (Intel)]"
    },
    "orig_nbformat": 4,
    "vscode": {
      "interpreter": {
        "hash": "972b3bf27e332e87b5379f2791f6ef9dfc79c71018c370b0d7423235e20fe4d7"
      }
    },
    "colab": {
      "provenance": [],
      "include_colab_link": true
    }
  },
  "nbformat": 4,
  "nbformat_minor": 0
}